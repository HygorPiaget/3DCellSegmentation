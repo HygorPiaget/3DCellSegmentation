{
 "cells": [
  {
   "cell_type": "code",
   "execution_count": 2,
   "metadata": {},
   "outputs": [],
   "source": [
    "import numpy as np\n",
    "import matplotlib.pyplot as plt\n",
    "from scipy import ndimage as ndi\n",
    "\n",
    "from skimage.segmentation import watershed,find_boundaries\n",
    "from skimage.feature import peak_local_max\n",
    "\n",
    "import plotly.express as px\n",
    "\n",
    "from skimage import io,util\n",
    "\n",
    "import skimage.filters\n",
    "\n",
    "from scipy.ndimage import gaussian_filter,morphology,label\n",
    "\n",
    "from PIL import Image\n",
    "\n",
    "from skimage.measure import regionprops\n",
    "\n",
    "import plotly.graph_objects as go\n",
    "import pandas as pd\n",
    "\n",
    "import plotly.io as pio\n",
    "pio.renderers.default = \"notebook_connected\""
   ]
  },
  {
   "cell_type": "code",
   "execution_count": 3,
   "metadata": {},
   "outputs": [
    {
     "name": "stderr",
     "output_type": "stream",
     "text": [
      "/home/hygor/anaconda3/lib/python3.7/site-packages/ipykernel_launcher.py:25: FutureWarning:\n",
      "\n",
      "indices argument is deprecated and will be removed in version 0.20. To avoid this warning, please do not use the indices argument. Please see peak_local_max documentation for more details.\n",
      "\n"
     ]
    },
    {
     "name": "stdout",
     "output_type": "stream",
     "text": [
      "67\n"
     ]
    }
   ],
   "source": [
    "#im_collection = io.imread_collection('0hrs/spheroids_231_cellsSF_hydrogels_3Ca/green/*.jpg')\n",
    "im_collection = io.imread_collection('sample_B/dapi-blue/*.jpg')\n",
    "\n",
    "im_3d = im_collection.concatenate()\n",
    "data = util.img_as_float(im_3d[:,:,:,2])\n",
    "\n",
    "\n",
    "#data=data[:,:900,:]\n",
    "data=data[:,:500,:500]\n",
    "\n",
    "# Rescale image data to range [0, 1]\n",
    "data = np.clip(data, np.percentile(data, 0.5), np.percentile(data, 99.5))\n",
    "\n",
    "#minimo=data.min()\n",
    "#maximo=data.max()\n",
    "\n",
    "#data = (data - data.min()) / (data.max() - data.min())\n",
    "\n",
    "aux = gaussian_filter(data, sigma=1.0)\n",
    "#aux=aux>0.1#skimage.filters.threshold_local(aux, 19, 'mean')\n",
    "\n",
    "aux=aux>0.1\n",
    "Dist = morphology.distance_transform_edt(aux)\n",
    "\n",
    "local_maxi = peak_local_max(Dist, indices=False,min_distance=10,exclude_border=False)\n",
    "neighbords=[[[1,1,1],\n",
    "            [1,1,1],\n",
    "            [1,1,1]],\n",
    "            [[1,1,1],\n",
    "            [1,1,1],\n",
    "            [1,1,1]],\n",
    "            [[1,1,1],\n",
    "            [1,1,1],\n",
    "            [1,1,1]]\n",
    "           ]\n",
    "\n",
    "markers = label(local_maxi,structure=neighbords)[0]\n",
    "labels = watershed(-Dist, markers,mask=aux)\n",
    "\n",
    "print(len(regionprops(labels)))"
   ]
  },
  {
   "cell_type": "code",
   "execution_count": 4,
   "metadata": {},
   "outputs": [],
   "source": [
    "bound = find_boundaries(labels,mode=\"outer\")\n",
    "\n",
    "dim = np.zeros((len(data),500,500))\n",
    "aa = np.stack((bound,dim, dim), axis=3)\n",
    "bb = np.stack((dim,dim, data), axis=3)"
   ]
  },
  {
   "cell_type": "code",
   "execution_count": null,
   "metadata": {},
   "outputs": [],
   "source": [
    "fig = px.imshow(200*aa+1000*bb, animation_frame=0, facet_col_wrap=2, binary_string=True)\n",
    "fig.show()"
   ]
  },
  {
   "cell_type": "code",
   "execution_count": null,
   "metadata": {},
   "outputs": [],
   "source": []
  }
 ],
 "metadata": {
  "kernelspec": {
   "display_name": "Python 3",
   "language": "python",
   "name": "python3"
  },
  "language_info": {
   "codemirror_mode": {
    "name": "ipython",
    "version": 3
   },
   "file_extension": ".py",
   "mimetype": "text/x-python",
   "name": "python",
   "nbconvert_exporter": "python",
   "pygments_lexer": "ipython3",
   "version": "3.7.3"
  }
 },
 "nbformat": 4,
 "nbformat_minor": 2
}
